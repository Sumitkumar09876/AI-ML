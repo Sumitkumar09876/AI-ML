{
 "cells": [
  {
   "cell_type": "code",
   "execution_count": 1,
   "metadata": {},
   "outputs": [],
   "source": [
    "import numpy as np\n",
    "import pandas as pd"
   ]
  },
  {
   "cell_type": "code",
   "execution_count": 2,
   "metadata": {},
   "outputs": [
    {
     "name": "stdout",
     "output_type": "stream",
     "text": [
      "   Temperature  Activity\n",
      "0            1         2\n",
      "1           34        55\n",
      "2           65         4\n",
      "3           67        78\n",
      "4           45        42\n"
     ]
    }
   ],
   "source": [
    "'''Creating a DataFrame\n",
    "The following code cell creates a simple DataFrame containing 10 cells organized as follows:\n",
    "\n",
    "5 rows\n",
    "2 columns, one named temperature and the other named activity\n",
    "The following code cell instantiates a pd.DataFrame class to generate a DataFrame. The class takes two arguments:\n",
    "\n",
    "The first argument provides the data to populate the 10 cells. The code cell calls np.array to generate the 5x2 NumPy array.\n",
    "The second argument identifies the names of the two columns.\n",
    "Note: Do not redefine variables in the following code cell. Subsequent code cells use these variables.'''\n",
    "\n",
    "my_data=np.array([[1,2],[34,55],[65,4],[67,78],[45,42]])\n",
    "my_column_names=['Temperature','Activity']\n",
    "data_frame=pd.DataFrame(data=my_data,columns=my_column_names)\n",
    "print(data_frame)"
   ]
  },
  {
   "cell_type": "code",
   "execution_count": 3,
   "metadata": {},
   "outputs": [
    {
     "name": "stdout",
     "output_type": "stream",
     "text": [
      "   Temperature  Activity  Adjusted\n",
      "0            1         2         4\n",
      "1           34        55        57\n",
      "2           65         4         6\n",
      "3           67        78        80\n",
      "4           45        42        44\n"
     ]
    }
   ],
   "source": [
    "#adding a new column\n",
    "data_frame[\"Adjusted\"]=data_frame[\"Activity\"]+2\n",
    "print(data_frame)"
   ]
  },
  {
   "cell_type": "code",
   "execution_count": 4,
   "metadata": {},
   "outputs": [
    {
     "name": "stdout",
     "output_type": "stream",
     "text": [
      "Row,0,1 and 2:\n",
      "   Temperature  Activity  Adjusted\n",
      "0            1         2         4\n",
      "1           34        55        57\n",
      "2           65         4         6 \n",
      "\n",
      "Row,1,2 and 3\n",
      "   Temperature  Activity  Adjusted\n",
      "1           34        55        57\n",
      "2           65         4         6\n",
      "3           67        78        80 \n",
      "\n",
      "Temperature:\n",
      "0     1\n",
      "1    34\n",
      "2    65\n",
      "3    67\n",
      "4    45\n",
      "Name: Temperature, dtype: int32 \n",
      "\n",
      "Row,2\n",
      "   Temperature  Activity  Adjusted\n",
      "2           65         4         6\n"
     ]
    }
   ],
   "source": [
    "#Specifying a subset of a DataFrame\n",
    "#Pandas provide multiples ways to isolate specific rows, columns, slices or cells in a DataFrame.\n",
    "print(\"Row,0,1 and 2:\")\n",
    "print(data_frame.head(3),\"\\n\")\n",
    "\n",
    "print(\"Row,1,2 and 3\")\n",
    "print(data_frame[1:4],\"\\n\")\n",
    "\n",
    "print(\"Temperature:\")\n",
    "print(data_frame['Temperature'],\"\\n\")\n",
    "\n",
    "print(\"Row,2\")\n",
    "print(data_frame.iloc[[2]])"
   ]
  },
  {
   "cell_type": "code",
   "execution_count": 5,
   "metadata": {},
   "outputs": [
    {
     "name": "stdout",
     "output_type": "stream",
     "text": [
      "   Eleanor  Chidi  Tahani  Jason\n",
      "0        0     70      24     93\n",
      "1       68     96      39     30\n",
      "2       25     40      75     57 \n",
      "\n",
      "Row, Eleanor\n",
      "0     0\n",
      "1    68\n",
      "2    25\n",
      "Name: Eleanor, dtype: int32 \n",
      "\n",
      "   Eleanor  Chidi  Tahani  Jason  Janet\n",
      "0        0     70      24     93    117\n",
      "1       68     96      39     30     69\n",
      "2       25     40      75     57    132 \n",
      "\n",
      "Row,1,Column,1,data:\n",
      "Data:68\n",
      "\n"
     ]
    }
   ],
   "source": [
    "'''Task 1: Create a DataFrame\n",
    "Do the following:\n",
    "\n",
    "Create an 3x4 (3 rows x 4 columns) pandas DataFrame in which the columns are named Eleanor, Chidi, Tahani, and Jason. Populate each of the 12 cells in the DataFrame with a random integer between 0 and 100, inclusive.\n",
    "\n",
    "Output the following:\n",
    "\n",
    "the entire DataFrame\n",
    "the value in the cell of row #1 of the Eleanor column\n",
    "Create a fifth column named Janet, which is populated with the row-by-row sums of Tahani and Jason.\n",
    "\n",
    "To complete this task, it helps to know the NumPy basics covered in the NumPy UltraQuick Tutorial.'''\n",
    "\n",
    "data=np.random.randint(low=0,high=100,size=(3,4))\n",
    "column=[\"Eleanor\", \"Chidi\", \"Tahani\", \"Jason\"]\n",
    "dataframe=pd.DataFrame(data=data,columns=column)\n",
    "print(dataframe,\"\\n\")\n",
    "\n",
    "print(\"Row, Eleanor\")\n",
    "print(dataframe[\"Eleanor\"],\"\\n\")\n",
    "\n",
    "dataframe[\"Janet\"]=dataframe[\"Tahani\"]+dataframe[\"Jason\"]\n",
    "print(dataframe,\"\\n\")\n",
    "\n",
    "print(\"Row,1,Column,1,data:\")\n",
    "print(\"Data:%d\\n\"% dataframe[\"Eleanor\"][1])"
   ]
  },
  {
   "cell_type": "code",
   "execution_count": 6,
   "metadata": {},
   "outputs": [
    {
     "name": "stdout",
     "output_type": "stream",
     "text": [
      "New dataframe:\n",
      "   Eleanor  Chidi  Tahani  Jason  Janet\n",
      "0        0     70      24     93    117\n",
      "1       68     96      39     30     69\n",
      "2       25     40      75     57    132 \n",
      "\n",
      "Copy a Dataframe:\n",
      "   Eleanor  Chidi  Tahani  Jason  Janet\n",
      "0        0     70      24     93    117\n",
      "1       68     96      39     30     69\n",
      "2       25     40      75     57    132\n"
     ]
    }
   ],
   "source": [
    "'''Copying a DataFrame (optional)\n",
    "Pandas provides two different ways to duplicate a DataFrame:\n",
    "\n",
    "Referencing. If you assign a DataFrame to a new variable, any change to the DataFrame or to the new variable will be reflected in the other.\n",
    "Copying. If you call the pd.DataFrame.copy method, you create a true independent copy. Changes to the original DataFrame or to the copy will not be reflected in the other.\n",
    "The difference is subtle, but important.'''\n",
    "\n",
    "print(\"New dataframe:\")\n",
    "new_dataframe=dataframe\n",
    "print(new_dataframe,\"\\n\")\n",
    "\n",
    "print(\"Copy a Dataframe:\")\n",
    "copy_dataframe=dataframe.copy()\n",
    "print(copy_dataframe)"
   ]
  }
 ],
 "metadata": {
  "kernelspec": {
   "display_name": "Python 3",
   "language": "python",
   "name": "python3"
  },
  "language_info": {
   "codemirror_mode": {
    "name": "ipython",
    "version": 3
   },
   "file_extension": ".py",
   "mimetype": "text/x-python",
   "name": "python",
   "nbconvert_exporter": "python",
   "pygments_lexer": "ipython3",
   "version": "3.12.2"
  }
 },
 "nbformat": 4,
 "nbformat_minor": 2
}
